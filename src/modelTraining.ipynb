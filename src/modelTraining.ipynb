{
 "cells": [
  {
   "cell_type": "markdown",
   "source": [
    "# 1. Imports"
   ],
   "metadata": {}
  },
  {
   "cell_type": "code",
   "execution_count": 18,
   "source": [
    "import os\r\n",
    "import time \r\n",
    "import numpy as np\r\n",
    "import pandas as pd\r\n",
    "import matplotlib.pyplot as plt\r\n",
    "from sklearn.model_selection import StratifiedKFold\r\n",
    "from sklearn.model_selection import train_test_split\r\n",
    "from sklearn.metrics import classification_report,accuracy_score\r\n",
    "from sklearn.metrics import plot_confusion_matrix"
   ],
   "outputs": [],
   "metadata": {}
  },
  {
   "cell_type": "code",
   "execution_count": 22,
   "source": [
    "from sklearn import tree\r\n",
    "from sklearn.ensemble import RandomForestClassifier\r\n",
    "from sklearn.tree import DecisionTreeClassifier\r\n",
    "from sklearn.neighbors import KNeighborsClassifier\r\n",
    "from sklearn.svm import SVC\r\n",
    "from sklearn.discriminant_analysis import LinearDiscriminantAnalysis\r\n",
    "from sklearn.ensemble import AdaBoostClassifier\r\n",
    "from sklearn.naive_bayes import GaussianNB"
   ],
   "outputs": [],
   "metadata": {}
  },
  {
   "cell_type": "code",
   "execution_count": 4,
   "source": [
    "from keras.models import Sequential\r\n",
    "from keras.layers import BatchNormalization, Dense, Dropout\r\n",
    "from keras.regularizers import l2"
   ],
   "outputs": [],
   "metadata": {}
  },
  {
   "cell_type": "markdown",
   "source": [
    "# 2. Data Loading"
   ],
   "metadata": {}
  },
  {
   "cell_type": "code",
   "execution_count": 5,
   "source": [
    "parent_dir = os.path.dirname(os.getcwd())\r\n",
    "features_path = os.path.join(parent_dir, 'dataset', 'features.csv')\r\n",
    "df_with_features = pd.read_csv(features_path, index_col=0)\r\n",
    "print(df_with_features.shape)\r\n",
    "print(df_with_features.type.value_counts())\r\n",
    "df_with_features.head()"
   ],
   "outputs": [
    {
     "output_type": "stream",
     "name": "stdout",
     "text": [
      "(651191, 22)\n",
      "benign        428103\n",
      "defacement     96457\n",
      "phishing       94111\n",
      "malware        32520\n",
      "Name: type, dtype: int64\n"
     ]
    },
    {
     "output_type": "execute_result",
     "data": {
      "text/html": [
       "<div>\n",
       "<style scoped>\n",
       "    .dataframe tbody tr th:only-of-type {\n",
       "        vertical-align: middle;\n",
       "    }\n",
       "\n",
       "    .dataframe tbody tr th {\n",
       "        vertical-align: top;\n",
       "    }\n",
       "\n",
       "    .dataframe thead th {\n",
       "        text-align: right;\n",
       "    }\n",
       "</style>\n",
       "<table border=\"1\" class=\"dataframe\">\n",
       "  <thead>\n",
       "    <tr style=\"text-align: right;\">\n",
       "      <th></th>\n",
       "      <th>url</th>\n",
       "      <th>type</th>\n",
       "      <th>use_of_ip</th>\n",
       "      <th>abnormal_url</th>\n",
       "      <th>count_.</th>\n",
       "      <th>count_www</th>\n",
       "      <th>count_@</th>\n",
       "      <th>count_dir</th>\n",
       "      <th>count_embed_domain</th>\n",
       "      <th>short_url</th>\n",
       "      <th>...</th>\n",
       "      <th>count_%</th>\n",
       "      <th>count_?</th>\n",
       "      <th>count_</th>\n",
       "      <th>count_=</th>\n",
       "      <th>url_length</th>\n",
       "      <th>hostname_length</th>\n",
       "      <th>sus_url</th>\n",
       "      <th>fd_length</th>\n",
       "      <th>tld_length</th>\n",
       "      <th>type_code</th>\n",
       "    </tr>\n",
       "  </thead>\n",
       "  <tbody>\n",
       "    <tr>\n",
       "      <th>0</th>\n",
       "      <td>br-icloud.com.br</td>\n",
       "      <td>phishing</td>\n",
       "      <td>0</td>\n",
       "      <td>0</td>\n",
       "      <td>2</td>\n",
       "      <td>0</td>\n",
       "      <td>0</td>\n",
       "      <td>0</td>\n",
       "      <td>0</td>\n",
       "      <td>0</td>\n",
       "      <td>...</td>\n",
       "      <td>0</td>\n",
       "      <td>0</td>\n",
       "      <td>1</td>\n",
       "      <td>0</td>\n",
       "      <td>16</td>\n",
       "      <td>0</td>\n",
       "      <td>0</td>\n",
       "      <td>0</td>\n",
       "      <td>-1</td>\n",
       "      <td>3</td>\n",
       "    </tr>\n",
       "    <tr>\n",
       "      <th>1</th>\n",
       "      <td>mp3raid.com/music/krizz_kaliko.html</td>\n",
       "      <td>benign</td>\n",
       "      <td>0</td>\n",
       "      <td>0</td>\n",
       "      <td>2</td>\n",
       "      <td>0</td>\n",
       "      <td>0</td>\n",
       "      <td>2</td>\n",
       "      <td>0</td>\n",
       "      <td>0</td>\n",
       "      <td>...</td>\n",
       "      <td>0</td>\n",
       "      <td>0</td>\n",
       "      <td>0</td>\n",
       "      <td>0</td>\n",
       "      <td>35</td>\n",
       "      <td>0</td>\n",
       "      <td>0</td>\n",
       "      <td>5</td>\n",
       "      <td>-1</td>\n",
       "      <td>0</td>\n",
       "    </tr>\n",
       "    <tr>\n",
       "      <th>2</th>\n",
       "      <td>bopsecrets.org/rexroth/cr/1.htm</td>\n",
       "      <td>benign</td>\n",
       "      <td>0</td>\n",
       "      <td>0</td>\n",
       "      <td>2</td>\n",
       "      <td>0</td>\n",
       "      <td>0</td>\n",
       "      <td>3</td>\n",
       "      <td>0</td>\n",
       "      <td>0</td>\n",
       "      <td>...</td>\n",
       "      <td>0</td>\n",
       "      <td>0</td>\n",
       "      <td>0</td>\n",
       "      <td>0</td>\n",
       "      <td>31</td>\n",
       "      <td>0</td>\n",
       "      <td>0</td>\n",
       "      <td>7</td>\n",
       "      <td>-1</td>\n",
       "      <td>0</td>\n",
       "    </tr>\n",
       "    <tr>\n",
       "      <th>3</th>\n",
       "      <td>http://www.garage-pirenne.be/index.php?option=...</td>\n",
       "      <td>defacement</td>\n",
       "      <td>0</td>\n",
       "      <td>1</td>\n",
       "      <td>3</td>\n",
       "      <td>1</td>\n",
       "      <td>0</td>\n",
       "      <td>1</td>\n",
       "      <td>0</td>\n",
       "      <td>0</td>\n",
       "      <td>...</td>\n",
       "      <td>0</td>\n",
       "      <td>1</td>\n",
       "      <td>1</td>\n",
       "      <td>4</td>\n",
       "      <td>88</td>\n",
       "      <td>21</td>\n",
       "      <td>0</td>\n",
       "      <td>9</td>\n",
       "      <td>2</td>\n",
       "      <td>1</td>\n",
       "    </tr>\n",
       "    <tr>\n",
       "      <th>4</th>\n",
       "      <td>http://adventure-nicaragua.net/index.php?optio...</td>\n",
       "      <td>defacement</td>\n",
       "      <td>0</td>\n",
       "      <td>1</td>\n",
       "      <td>2</td>\n",
       "      <td>0</td>\n",
       "      <td>0</td>\n",
       "      <td>1</td>\n",
       "      <td>0</td>\n",
       "      <td>0</td>\n",
       "      <td>...</td>\n",
       "      <td>0</td>\n",
       "      <td>1</td>\n",
       "      <td>1</td>\n",
       "      <td>3</td>\n",
       "      <td>235</td>\n",
       "      <td>23</td>\n",
       "      <td>0</td>\n",
       "      <td>9</td>\n",
       "      <td>3</td>\n",
       "      <td>1</td>\n",
       "    </tr>\n",
       "  </tbody>\n",
       "</table>\n",
       "<p>5 rows × 22 columns</p>\n",
       "</div>"
      ],
      "text/plain": [
       "                                                 url        type  use_of_ip  \\\n",
       "0                                   br-icloud.com.br    phishing          0   \n",
       "1                mp3raid.com/music/krizz_kaliko.html      benign          0   \n",
       "2                    bopsecrets.org/rexroth/cr/1.htm      benign          0   \n",
       "3  http://www.garage-pirenne.be/index.php?option=...  defacement          0   \n",
       "4  http://adventure-nicaragua.net/index.php?optio...  defacement          0   \n",
       "\n",
       "   abnormal_url  count_.  count_www  count_@  count_dir  count_embed_domain  \\\n",
       "0             0        2          0        0          0                   0   \n",
       "1             0        2          0        0          2                   0   \n",
       "2             0        2          0        0          3                   0   \n",
       "3             1        3          1        0          1                   0   \n",
       "4             1        2          0        0          1                   0   \n",
       "\n",
       "   short_url  ...  count_%  count_?  count_  count_=  url_length  \\\n",
       "0          0  ...        0        0       1        0          16   \n",
       "1          0  ...        0        0       0        0          35   \n",
       "2          0  ...        0        0       0        0          31   \n",
       "3          0  ...        0        1       1        4          88   \n",
       "4          0  ...        0        1       1        3         235   \n",
       "\n",
       "   hostname_length  sus_url  fd_length  tld_length  type_code  \n",
       "0                0        0          0          -1          3  \n",
       "1                0        0          5          -1          0  \n",
       "2                0        0          7          -1          0  \n",
       "3               21        0          9           2          1  \n",
       "4               23        0          9           3          1  \n",
       "\n",
       "[5 rows x 22 columns]"
      ]
     },
     "metadata": {},
     "execution_count": 5
    }
   ],
   "metadata": {}
  },
  {
   "cell_type": "code",
   "execution_count": 6,
   "source": [
    "X = df_with_features.copy(deep=True)\r\n",
    "X.drop(['url', 'type', 'type_code'], axis=1, inplace=True)\r\n",
    "X.head()"
   ],
   "outputs": [
    {
     "output_type": "execute_result",
     "data": {
      "text/html": [
       "<div>\n",
       "<style scoped>\n",
       "    .dataframe tbody tr th:only-of-type {\n",
       "        vertical-align: middle;\n",
       "    }\n",
       "\n",
       "    .dataframe tbody tr th {\n",
       "        vertical-align: top;\n",
       "    }\n",
       "\n",
       "    .dataframe thead th {\n",
       "        text-align: right;\n",
       "    }\n",
       "</style>\n",
       "<table border=\"1\" class=\"dataframe\">\n",
       "  <thead>\n",
       "    <tr style=\"text-align: right;\">\n",
       "      <th></th>\n",
       "      <th>use_of_ip</th>\n",
       "      <th>abnormal_url</th>\n",
       "      <th>count_.</th>\n",
       "      <th>count_www</th>\n",
       "      <th>count_@</th>\n",
       "      <th>count_dir</th>\n",
       "      <th>count_embed_domain</th>\n",
       "      <th>short_url</th>\n",
       "      <th>count_https</th>\n",
       "      <th>count_http</th>\n",
       "      <th>count_%</th>\n",
       "      <th>count_?</th>\n",
       "      <th>count_</th>\n",
       "      <th>count_=</th>\n",
       "      <th>url_length</th>\n",
       "      <th>hostname_length</th>\n",
       "      <th>sus_url</th>\n",
       "      <th>fd_length</th>\n",
       "      <th>tld_length</th>\n",
       "    </tr>\n",
       "  </thead>\n",
       "  <tbody>\n",
       "    <tr>\n",
       "      <th>0</th>\n",
       "      <td>0</td>\n",
       "      <td>0</td>\n",
       "      <td>2</td>\n",
       "      <td>0</td>\n",
       "      <td>0</td>\n",
       "      <td>0</td>\n",
       "      <td>0</td>\n",
       "      <td>0</td>\n",
       "      <td>0</td>\n",
       "      <td>0</td>\n",
       "      <td>0</td>\n",
       "      <td>0</td>\n",
       "      <td>1</td>\n",
       "      <td>0</td>\n",
       "      <td>16</td>\n",
       "      <td>0</td>\n",
       "      <td>0</td>\n",
       "      <td>0</td>\n",
       "      <td>-1</td>\n",
       "    </tr>\n",
       "    <tr>\n",
       "      <th>1</th>\n",
       "      <td>0</td>\n",
       "      <td>0</td>\n",
       "      <td>2</td>\n",
       "      <td>0</td>\n",
       "      <td>0</td>\n",
       "      <td>2</td>\n",
       "      <td>0</td>\n",
       "      <td>0</td>\n",
       "      <td>0</td>\n",
       "      <td>0</td>\n",
       "      <td>0</td>\n",
       "      <td>0</td>\n",
       "      <td>0</td>\n",
       "      <td>0</td>\n",
       "      <td>35</td>\n",
       "      <td>0</td>\n",
       "      <td>0</td>\n",
       "      <td>5</td>\n",
       "      <td>-1</td>\n",
       "    </tr>\n",
       "    <tr>\n",
       "      <th>2</th>\n",
       "      <td>0</td>\n",
       "      <td>0</td>\n",
       "      <td>2</td>\n",
       "      <td>0</td>\n",
       "      <td>0</td>\n",
       "      <td>3</td>\n",
       "      <td>0</td>\n",
       "      <td>0</td>\n",
       "      <td>0</td>\n",
       "      <td>0</td>\n",
       "      <td>0</td>\n",
       "      <td>0</td>\n",
       "      <td>0</td>\n",
       "      <td>0</td>\n",
       "      <td>31</td>\n",
       "      <td>0</td>\n",
       "      <td>0</td>\n",
       "      <td>7</td>\n",
       "      <td>-1</td>\n",
       "    </tr>\n",
       "    <tr>\n",
       "      <th>3</th>\n",
       "      <td>0</td>\n",
       "      <td>1</td>\n",
       "      <td>3</td>\n",
       "      <td>1</td>\n",
       "      <td>0</td>\n",
       "      <td>1</td>\n",
       "      <td>0</td>\n",
       "      <td>0</td>\n",
       "      <td>0</td>\n",
       "      <td>1</td>\n",
       "      <td>0</td>\n",
       "      <td>1</td>\n",
       "      <td>1</td>\n",
       "      <td>4</td>\n",
       "      <td>88</td>\n",
       "      <td>21</td>\n",
       "      <td>0</td>\n",
       "      <td>9</td>\n",
       "      <td>2</td>\n",
       "    </tr>\n",
       "    <tr>\n",
       "      <th>4</th>\n",
       "      <td>0</td>\n",
       "      <td>1</td>\n",
       "      <td>2</td>\n",
       "      <td>0</td>\n",
       "      <td>0</td>\n",
       "      <td>1</td>\n",
       "      <td>0</td>\n",
       "      <td>0</td>\n",
       "      <td>0</td>\n",
       "      <td>1</td>\n",
       "      <td>0</td>\n",
       "      <td>1</td>\n",
       "      <td>1</td>\n",
       "      <td>3</td>\n",
       "      <td>235</td>\n",
       "      <td>23</td>\n",
       "      <td>0</td>\n",
       "      <td>9</td>\n",
       "      <td>3</td>\n",
       "    </tr>\n",
       "  </tbody>\n",
       "</table>\n",
       "</div>"
      ],
      "text/plain": [
       "   use_of_ip  abnormal_url  count_.  count_www  count_@  count_dir  \\\n",
       "0          0             0        2          0        0          0   \n",
       "1          0             0        2          0        0          2   \n",
       "2          0             0        2          0        0          3   \n",
       "3          0             1        3          1        0          1   \n",
       "4          0             1        2          0        0          1   \n",
       "\n",
       "   count_embed_domain  short_url  count_https  count_http  count_%  count_?  \\\n",
       "0                   0          0            0           0        0        0   \n",
       "1                   0          0            0           0        0        0   \n",
       "2                   0          0            0           0        0        0   \n",
       "3                   0          0            0           1        0        1   \n",
       "4                   0          0            0           1        0        1   \n",
       "\n",
       "   count_  count_=  url_length  hostname_length  sus_url  fd_length  \\\n",
       "0       1        0          16                0        0          0   \n",
       "1       0        0          35                0        0          5   \n",
       "2       0        0          31                0        0          7   \n",
       "3       1        4          88               21        0          9   \n",
       "4       1        3         235               23        0          9   \n",
       "\n",
       "   tld_length  \n",
       "0          -1  \n",
       "1          -1  \n",
       "2          -1  \n",
       "3           2  \n",
       "4           3  "
      ]
     },
     "metadata": {},
     "execution_count": 6
    }
   ],
   "metadata": {}
  },
  {
   "cell_type": "code",
   "execution_count": 7,
   "source": [
    "complete_feature_set = list(X.columns)\r\n",
    "print(complete_feature_set)"
   ],
   "outputs": [
    {
     "output_type": "stream",
     "name": "stdout",
     "text": [
      "['use_of_ip', 'abnormal_url', 'count_.', 'count_www', 'count_@', 'count_dir', 'count_embed_domain', 'short_url', 'count_https', 'count_http', 'count_%', 'count_?', 'count_', 'count_=', 'url_length', 'hostname_length', 'sus_url', 'fd_length', 'tld_length']\n"
     ]
    }
   ],
   "metadata": {}
  },
  {
   "cell_type": "code",
   "execution_count": 8,
   "source": [
    "y = df_with_features.copy(deep=True)\r\n",
    "y = y['type_code']\r\n",
    "y.head()"
   ],
   "outputs": [
    {
     "output_type": "execute_result",
     "data": {
      "text/plain": [
       "0    3\n",
       "1    0\n",
       "2    0\n",
       "3    1\n",
       "4    1\n",
       "Name: type_code, dtype: int64"
      ]
     },
     "metadata": {},
     "execution_count": 8
    }
   ],
   "metadata": {}
  },
  {
   "cell_type": "code",
   "execution_count": 9,
   "source": [
    "# Construct a hold-out dataset for final testing\r\n",
    "X_tune, X_holdout, y_tune, y_holdout = train_test_split(X, y, test_size=0.02, random_state=99)\r\n",
    "print(X_tune.shape)\r\n",
    "print(X_holdout.shape)\r\n",
    "print(y_tune.shape)\r\n",
    "print(y_holdout.shape)"
   ],
   "outputs": [
    {
     "output_type": "stream",
     "name": "stdout",
     "text": [
      "(638167, 19)\n",
      "(13024, 19)\n",
      "(638167,)\n",
      "(13024,)\n"
     ]
    }
   ],
   "metadata": {}
  },
  {
   "cell_type": "markdown",
   "source": [
    "# 3. Cross Validation"
   ],
   "metadata": {}
  },
  {
   "cell_type": "markdown",
   "source": [
    "The following function can be used to try out a ML algorithm of one's choice to perform n-fold cross validation the training dataset. \r\n",
    "The accuracy for each validation subset is saved in the metrics dictionary, which is returned. "
   ],
   "metadata": {}
  },
  {
   "cell_type": "code",
   "execution_count": 10,
   "source": [
    "def train_and_eval(X, y, feature_set=[], models_to_use=[], folds=10):\r\n",
    "    \"\"\"\r\n",
    "    Perform cross validation on selected models using given data X and targets y. \r\n",
    "    :param X: the features \r\n",
    "    :param age: the targets \r\n",
    "    :param feature_set: the list of features to use for training \r\n",
    "    :param models_to_use: a list of selected models to be trained\r\n",
    "    :param folds: how many folds to use for StratifiedKFold\r\n",
    "    :return: a dictionary where the keys are the model names and each value is a list of a \r\n",
    "    accuracies across all folds  \r\n",
    "    \"\"\"\r\n",
    "    \r\n",
    "    if len(feature_set) != 0:        \r\n",
    "        X = X[feature_set]\r\n",
    "\r\n",
    "    random_state = 100\r\n",
    "    metrics = {\r\n",
    "            'rf':[],\r\n",
    "            'dt':[],\r\n",
    "            'knn':[],\r\n",
    "            'svm':[],\r\n",
    "            'lr':[],\r\n",
    "            'lda':[],\r\n",
    "            'ab':[],\r\n",
    "            'nb':[],\r\n",
    "            'keras':[],\r\n",
    "            }\r\n",
    "    \r\n",
    "    print('Training with {} features'.format(len(X.columns)))\r\n",
    "    print('Using {} fold cross validation'.format(folds))\r\n",
    "    skf = StratifiedKFold(n_splits=folds, shuffle=False, random_state=None)\r\n",
    "    count = 1\r\n",
    "\r\n",
    "    print(\"Using models:\", models_to_use)\r\n",
    "\r\n",
    "    for train_idx, test_idx in skf.split(X, y):\r\n",
    "        print(\"On fold {}\".format(count))\r\n",
    "        count += 1\r\n",
    "        X_train, X_test = X.iloc[train_idx], X.iloc[test_idx]\r\n",
    "        y_train, y_test = y.iloc[train_idx], y.iloc[test_idx]\r\n",
    "\r\n",
    "        # Instantiate various ML models for training \r\n",
    "        if \"rf\" in models_to_use:        \r\n",
    "            # Random Forest Model\r\n",
    "            rf = RandomForestClassifier(random_state=random_state, verbose=2)\r\n",
    "            rf.fit(X_train, y_train)\r\n",
    "            score = rf.score(X_test, y_test)\r\n",
    "            metrics['rf'].append(score)\r\n",
    "\r\n",
    "        if \"dt\" in models_to_use:\r\n",
    "            # Decision Tree Model\r\n",
    "            dt = DecisionTreeClassifier(random_state=random_state)\r\n",
    "            dt.fit(X_train, y_train)\r\n",
    "            score = dt.score(X_test, y_test)\r\n",
    "            metrics['dt'].append(score)\r\n",
    "\r\n",
    "        if \"knn\" in models_to_use:\r\n",
    "            # k-Nearest Neighbors Model\r\n",
    "            knn = KNeighborsClassifier()\r\n",
    "            knn.fit(X_train, y_train)\r\n",
    "            score = knn.score(X_test, y_test)\r\n",
    "            metrics['knn'].append(score)\r\n",
    "\r\n",
    "        if \"svm\" in models_to_use:\r\n",
    "            # Support Vector Machine Model\r\n",
    "            svm = SVC(random_state=random_state, verbose=2)\r\n",
    "            svm.fit(X_train, y_train)\r\n",
    "            score = svm.score(X_test, y_test)\r\n",
    "            metrics['svm'].append(score)\r\n",
    "\r\n",
    "        if \"lda\" in models_to_use:\r\n",
    "            # Linear Discriminant Analysis Model\r\n",
    "            lda = LinearDiscriminantAnalysis()\r\n",
    "            lda.fit(X_train, y_train)\r\n",
    "            score = lda.score(X_test, y_test)\r\n",
    "            metrics['lda'].append(score)\r\n",
    "\r\n",
    "        if \"ab\" in models_to_use:\r\n",
    "            # AdaBoost Model\r\n",
    "            ab = AdaBoostClassifier(random_state=random_state)\r\n",
    "            ab.fit(X_train, y_train)\r\n",
    "            score = ab.score(X_test, y_test)\r\n",
    "            metrics['ab'].append(score)\r\n",
    "\r\n",
    "        if \"nb\" in models_to_use:\r\n",
    "            # Naive Bayes Model\r\n",
    "            nb = GaussianNB()\r\n",
    "            nb.fit(X_train, y_train)\r\n",
    "            score = nb.score(X_test, y_test)\r\n",
    "            metrics['nb'].append(score)\r\n",
    "        \r\n",
    "        if \"dnn\" in models_to_use:\r\n",
    "            # Keras-TensorFlow DNN Model\r\n",
    "            dnn_keras = Sequential(layers=[\r\n",
    "                    Dense(64, kernel_regularizer=l2(0.001), activation='relu',input_shape=(len(X_train.columns),)),\r\n",
    "                    BatchNormalization(),\r\n",
    "                    Dense(32, activation='relu', kernel_regularizer=l2(0.001)),\r\n",
    "                    BatchNormalization(),\r\n",
    "                    Dense(y_train.nunique(), activation='softmax')\r\n",
    "            ])\r\n",
    "            print(dnn_keras.summary())\r\n",
    "            dnn_keras.compile(\r\n",
    "                optimizer='adam', \r\n",
    "                loss='categorical_crossentropy', \r\n",
    "                metrics=['accuracy'])\r\n",
    "            dnn_keras.fit(X_train, pd.get_dummies(y_train), epochs=10, verbose=1, batch_size=256)\r\n",
    "            _, score = dnn_keras.evaluate(X_test, pd.get_dummies(y_test), verbose=1)\r\n",
    "            metrics['keras'].append(score)\r\n",
    "\r\n",
    "    return metrics"
   ],
   "outputs": [],
   "metadata": {}
  },
  {
   "cell_type": "code",
   "execution_count": null,
   "source": [
    "features_to_use = ['count_.', 'count_www', 'count_@', 'count_dir', \r\n",
    "                    'count_https', 'count_http', 'count_%', 'count_?', 'count_', 'count_=',]\r\n",
    "# Train on the entire feature set, using decision tree approach. \r\n",
    "models_to_use = [\"rf\"]\r\n",
    "metrics = train_and_eval(X=X_tune, y=y_tune, feature_set=features_to_use ,models_to_use=models_to_use)"
   ],
   "outputs": [],
   "metadata": {}
  },
  {
   "cell_type": "markdown",
   "source": [
    "Here we can see that the our approach can do well on unseen data, since we are using stratefied-k-fold validation without unique splits. The validation accuracy across each of the 10 groups are very similar. "
   ],
   "metadata": {}
  },
  {
   "cell_type": "code",
   "execution_count": 12,
   "source": [
    "for model_name in models_to_use:\r\n",
    "    print(\"{}: {}\".format(model_name, metrics[model_name]))\r\n",
    "    print()"
   ],
   "outputs": [
    {
     "output_type": "stream",
     "name": "stdout",
     "text": [
      "rf: [0.9293448454173653, 0.9299402980397072, 0.9289531002710877, 0.927527147938637, 0.9303633827976872, 0.9295642226992807, 0.9281539401726813, 0.9295317788642347, 0.9290773473736994, 0.927682712799298]\n",
      "\n"
     ]
    }
   ],
   "metadata": {}
  },
  {
   "cell_type": "code",
   "execution_count": 13,
   "source": [
    "models_to_use = [\"dt\"]\r\n",
    "metrics = train_and_eval(X=X_tune, y=y_tune, feature_set=features_to_use ,models_to_use=models_to_use)"
   ],
   "outputs": [
    {
     "output_type": "stream",
     "name": "stdout",
     "text": [
      "Training with 10 features\n",
      "Using 10 fold cross validation\n",
      "Using models: ['dt']\n",
      "On fold 1\n",
      "On fold 2\n",
      "On fold 3\n",
      "On fold 4\n",
      "On fold 5\n",
      "On fold 6\n",
      "On fold 7\n",
      "On fold 8\n",
      "On fold 9\n",
      "On fold 10\n"
     ]
    }
   ],
   "metadata": {}
  },
  {
   "cell_type": "code",
   "execution_count": 14,
   "source": [
    "for model_name in models_to_use:\r\n",
    "    print(\"{}: {}\".format(model_name, metrics[model_name]))\r\n",
    "    print()"
   ],
   "outputs": [
    {
     "output_type": "stream",
     "name": "stdout",
     "text": [
      "dt: [0.9288120720184276, 0.929595562310983, 0.9282479590077879, 0.9268063368694862, 0.929752260369494, 0.9288747512418322, 0.9274331291035304, 0.9290773473736994, 0.9284662153691864, 0.927275291462956]\n",
      "\n"
     ]
    }
   ],
   "metadata": {}
  },
  {
   "cell_type": "markdown",
   "source": [
    "The performance of Random Forest is very similar to that of Decision Tree. "
   ],
   "metadata": {}
  },
  {
   "cell_type": "code",
   "execution_count": 16,
   "source": [
    "# Now train the dataset on the entire training set, and evaluate on the holdout dataset. \r\n",
    "final_dt = DecisionTreeClassifier()\r\n",
    "final_dt.fit(X_tune, y_tune)\r\n",
    "y_pred = final_dt.predict(X_holdout)\r\n",
    "print(classification_report(y_holdout, y_pred))\r\n",
    "score = accuracy_score(y_holdout, y_pred)\r\n",
    "print(\"accuracy:   %0.3f\" % score)"
   ],
   "outputs": [
    {
     "output_type": "stream",
     "name": "stdout",
     "text": [
      "              precision    recall  f1-score   support\n",
      "\n",
      "           0       0.97      0.98      0.98      8594\n",
      "           1       0.98      0.98      0.98      1922\n",
      "           2       0.97      0.96      0.96       638\n",
      "           3       0.89      0.84      0.86      1870\n",
      "\n",
      "    accuracy                           0.96     13024\n",
      "   macro avg       0.95      0.94      0.95     13024\n",
      "weighted avg       0.96      0.96      0.96     13024\n",
      "\n",
      "accuracy:   0.961\n"
     ]
    }
   ],
   "metadata": {}
  },
  {
   "cell_type": "markdown",
   "source": [
    "- Benign: 0,\r\n",
    "- Defacement: 1,\r\n",
    "- Malware: 2,\r\n",
    "- Phishing: 3\r\n"
   ],
   "metadata": {}
  },
  {
   "cell_type": "markdown",
   "source": [
    "# 4. Analyis"
   ],
   "metadata": {}
  },
  {
   "cell_type": "code",
   "execution_count": 17,
   "source": [
    "print(\"Total samples in holdout set: {}\".format(y_holdout.shape[0]))\r\n",
    "print(y_holdout.to_frame().value_counts())\r\n",
    "plot_confusion_matrix(final_dt, X_holdout, y_holdout, display_labels=['benign', 'defacement', 'malware', 'phishing'])\r\n",
    "plt.show()"
   ],
   "outputs": [
    {
     "output_type": "stream",
     "name": "stdout",
     "text": [
      "Total samples in holdout set: 13024\n",
      "type_code\n",
      "0            8594\n",
      "1            1922\n",
      "3            1870\n",
      "2             638\n",
      "dtype: int64\n"
     ]
    },
    {
     "output_type": "display_data",
     "data": {
      "image/png": "[encoded data removed]",
      "text/plain": [
       "<Figure size 432x288 with 2 Axes>"
      ]
     },
     "metadata": {
      "needs_background": "light"
     }
    }
   ],
   "metadata": {}
  },
  {
   "cell_type": "markdown",
   "source": [
    "We can see that both precision and recall for **benign**, **defacement**, and **malware** type urls are relatively high compared to those for **phishing** urls. Based on the confusion matrix, we see that 13% of **phishing** emails were classified as benign. This is the most prominent weakness of this particular model. "
   ],
   "metadata": {}
  },
  {
   "cell_type": "code",
   "execution_count": 24,
   "source": [
    "start_time = time.time()\r\n",
    "importances = final_dt.feature_importances_\r\n",
    "elapsed_time = time.time() - start_time\r\n",
    "\r\n",
    "print(f\"Elapsed time to compute the importances: \"\r\n",
    "      f\"{elapsed_time:.3f} seconds\")"
   ],
   "outputs": [
    {
     "output_type": "stream",
     "name": "stdout",
     "text": [
      "Elapsed time to compute the importances: 0.024 seconds\n"
     ]
    }
   ],
   "metadata": {}
  },
  {
   "cell_type": "code",
   "execution_count": 25,
   "source": [
    "importances = pd.Series(importances, index=complete_feature_set)\r\n",
    "fig, ax = plt.subplots()\r\n",
    "importances.plot.bar(ax=ax)\r\n",
    "ax.set_title(\"Feature Importances for Decision Tree Classifier\")\r\n",
    "ax.set_ylabel(\"Feature Importances\")\r\n",
    "fig.tight_layout()"
   ],
   "outputs": [
    {
     "output_type": "display_data",
     "data": {
      "image/png": "[encoded data removed]",
      "text/plain": [
       "<Figure size 432x288 with 1 Axes>"
      ]
     },
     "metadata": {
      "needs_background": "light"
     }
    }
   ],
   "metadata": {}
  },
  {
   "cell_type": "markdown",
   "source": [
    "The host name's length seems by far to be most important feature for the decision tree classifier. Features such as use_of_ip, abnormal_url, and count_@ weren't relevant for the decision tree classifier."
   ],
   "metadata": {}
  }
 ],
 "metadata": {
  "orig_nbformat": 4,
  "language_info": {
   "name": "python",
   "version": "3.8.3",
   "mimetype": "text/x-python",
   "codemirror_mode": {
    "name": "ipython",
    "version": 3
   },
   "pygments_lexer": "ipython3",
   "nbconvert_exporter": "python",
   "file_extension": ".py"
  },
  "kernelspec": {
   "name": "python3",
   "display_name": "Python 3.8.3 64-bit ('url_classifier_env': venv)"
  },
  "interpreter": {
   "hash": "41a15f7d49eae2be40fa7b2ab6a4987377602c64047f8d67c3dad8a035fc86d1"
  }
 },
 "nbformat": 4,
 "nbformat_minor": 2
}